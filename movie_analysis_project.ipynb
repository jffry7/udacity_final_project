{
 "cells": [
  {
   "cell_type": "code",
   "execution_count": 1,
   "metadata": {},
   "outputs": [],
   "source": [
    "import numpy as np\n",
    "import pandas as pd\n",
    "import matplotlib.pyplot as plt\n",
    "import seaborn as sns\n",
    "from IPython.core.display import display, HTML"
   ]
  },
  {
   "cell_type": "code",
   "execution_count": 2,
   "metadata": {},
   "outputs": [],
   "source": [
    "def remove_zero_row(df, row_name):\n",
    "    \"\"\"\n",
    "    Remove the whole row when there is a '0' value \n",
    "    in the specified row name\n",
    "    \"\"\"\n",
    "    return df[df[row_name] != 0]\n",
    "\n",
    "\n",
    "def get_mean_genre_by_mos(df, genre):\n",
    "    \"\"\"\n",
    "    Gets the mean of the dataset\n",
    "    by grouping it with month and 'genre'\n",
    "    \"\"\"\n",
    "    return df.groupby(['month', genre], as_index=False).mean()\n",
    "    # loc[1] is meant to get the value only for boolean \"True\" dataset\n",
    "\n",
    "def plot_data(df, data_view, genre_plot):\n",
    "    plt.figure(figsize=(10,8))\n",
    "    sns.set_style(\"whitegrid\")\n",
    "    sns.set_context(\"notebook\", font_scale=1)\n",
    "    sns.barplot(x='month', \n",
    "                y=data_view, \n",
    "                hue=genre_plot, \n",
    "                data=df.sort_values(['month', genre_plot]),\n",
    "                order=[\"Jan\", \"Feb\", \"Mar\", \"Apr\",\n",
    "                         \"May\", \"Jun\", \"Jul\", \"Aug\",\n",
    "                         \"Sep\", \"Oct\", \"Nov\", \"Dec\"\n",
    "                        ]\n",
    "                )\n",
    "    plt.xlabel(\"Month\")\n",
    "    plt.ylabel(\"Mean {}\".format(data_view.title()))\n",
    "    plt.title(\"Mean {} of {} Movies\".format(data_view.title(),\n",
    "                                            genre_plot.title()))\n",
    "    plt.show()\n",
    "    return"
   ]
  },
  {
   "cell_type": "code",
   "execution_count": 3,
   "metadata": {},
   "outputs": [],
   "source": [
    "movie_data_df = pd.read_csv('tmdb-movies.csv', header=0)\n",
    "# import data and use row 0 as index"
   ]
  },
  {
   "cell_type": "code",
   "execution_count": 4,
   "metadata": {},
   "outputs": [],
   "source": [
    "new_moviedb_df =  movie_data_df.join(movie_data_df.pop('genres').str.get_dummies())\n",
    "# split the genres column to separate columns for ease of data corelation\n",
    "# source: https://stackoverflow.com/questions/47248727/parsing-csv-file-with-pandas-in-python3"
   ]
  },
  {
   "cell_type": "code",
   "execution_count": 5,
   "metadata": {},
   "outputs": [],
   "source": [
    "new_moviedb_df.iloc[:, 20 : 42] = new_moviedb_df.iloc[:, 20 : 42].applymap(lambda x: True \n",
    "                                                                           if x == 1 \n",
    "                                                                           else x).applymap(lambda x: False \n",
    "                                                                                            if x== 0 \n",
    "                                                                                            else x)\n",
    "# Genre location/index has been hardcoded by in future I hope to get this automated thru a variable\n",
    "# Convert 0 and 1 to Boolean for the Genre field\n",
    "# https://stackoverflow.com/questions/38499747/converting-all-occurrence-of-true-false-to-1-0-in-a-dataframe-with-mixed-datatyp"
   ]
  },
  {
   "cell_type": "code",
   "execution_count": 6,
   "metadata": {},
   "outputs": [],
   "source": [
    "new_moviedb_df['month'] = pd.DatetimeIndex(new_moviedb_df['release_date']).month\n",
    "# Adds a series on the current dataframe by converting the release date to Month of Release"
   ]
  },
  {
   "cell_type": "code",
   "execution_count": 7,
   "metadata": {},
   "outputs": [],
   "source": [
    "import calendar\n",
    "new_moviedb_df['month'] = new_moviedb_df['month'].apply(lambda x: calendar.month_abbr[x])\n",
    "# Converts Month numeric to String equivalent\n",
    "# https://stackoverflow.com/questions/37625334/python-pandas-convert-month-int-to-month-name"
   ]
  },
  {
   "cell_type": "code",
   "execution_count": 8,
   "metadata": {},
   "outputs": [],
   "source": [
    "nonzero_revenue_moviedb_df = remove_zero_row(new_moviedb_df, 'revenue')\n",
    "# Calls the function to remove dataset that have 0 as values for 'revenue'"
   ]
  },
  {
   "cell_type": "code",
   "execution_count": 9,
   "metadata": {},
   "outputs": [
    {
     "data": {
      "text/html": [
       "<header><center><h1>Movie Analysis Project</h1></center></header>"
      ],
      "text/plain": [
       "<IPython.core.display.HTML object>"
      ]
     },
     "metadata": {},
     "output_type": "display_data"
    },
    {
     "data": {
      "text/html": [
       "<header><h3>Is there a revelance of movie release month?</h3></header>"
      ],
      "text/plain": [
       "<IPython.core.display.HTML object>"
      ]
     },
     "metadata": {},
     "output_type": "display_data"
    },
    {
     "data": {
      "text/html": [
       "<section>- Revenue</section>"
      ],
      "text/plain": [
       "<IPython.core.display.HTML object>"
      ]
     },
     "metadata": {},
     "output_type": "display_data"
    },
    {
     "data": {
      "text/html": [
       "<section>- Popularity</section>"
      ],
      "text/plain": [
       "<IPython.core.display.HTML object>"
      ]
     },
     "metadata": {},
     "output_type": "display_data"
    },
    {
     "data": {
      "text/html": [
       "<section>- Average Vote</section>"
      ],
      "text/plain": [
       "<IPython.core.display.HTML object>"
      ]
     },
     "metadata": {},
     "output_type": "display_data"
    },
    {
     "data": {
      "text/html": [
       "<article> The figure below shows the mean average of revenue for a horror movie has been group release month. This is compared to movies with other genres."
      ],
      "text/plain": [
       "<IPython.core.display.HTML object>"
      ]
     },
     "metadata": {},
     "output_type": "display_data"
    },
    {
     "data": {
      "image/png": "[encoded data removed]",
      "text/plain": [
       "<matplotlib.figure.Figure at 0xb171e48>"
      ]
     },
     "metadata": {},
     "output_type": "display_data"
    }
   ],
   "source": [
    "display(HTML(\"<header><center><h1>Movie Analysis Project</h1></center></header>\"))\n",
    "display(HTML(\"<header><h3>Is there a revelance of movie release month?</h3></header>\"))\n",
    "display(HTML(\"<section>- Revenue</section>\"))\n",
    "display(HTML(\"<section>- Popularity</section>\"))\n",
    "display(HTML(\"<section>- Average Vote</section>\"))\n",
    "display(HTML(\"<article> The figure below shows the mean average of revenue for a horror movie has been group release month. This is compared to movies with other genres.\"))\n",
    "horror_mean_moviedb_df = get_mean_genre_by_mos(nonzero_revenue_moviedb_df, 'Horror')\n",
    "plot_data(horror_mean_moviedb_df, 'revenue', 'Horror')"
   ]
  },
  {
   "cell_type": "code",
   "execution_count": 55,
   "metadata": {},
   "outputs": [
    {
     "data": {
      "image/png": "[encoded data removed]",
      "text/plain": [
       "<matplotlib.figure.Figure at 0xfbfedd8>"
      ]
     },
     "metadata": {},
     "output_type": "display_data"
    }
   ],
   "source": [
    "\n",
    "scaler = (horror_mean_moviedb_df['vote_count'])\n",
    "plt.scatter(horror_mean_moviedb_df['revenue'], \n",
    "            horror_mean_moviedb_df['popularity'], \n",
    "            s=scaler, \n",
    "            color=['r', 'g'], alpha=0.5\n",
    "           )\n",
    "\n",
    "# plt.legend(movie_type, loc=2)\n",
    "plt.title(\"Popularity vs Revenue with vote count scale\")\n",
    "plt.xlabel(\"Popularity\")\n",
    "plt.ylabel(\"Revenue\")\n",
    "\n",
    "plt.show()"
   ]
  },
  {
   "cell_type": "code",
   "execution_count": null,
   "metadata": {},
   "outputs": [],
   "source": []
  }
 ],
 "metadata": {
  "kernelspec": {
   "display_name": "Python [conda env:udacity27]",
   "language": "python",
   "name": "conda-env-udacity27-py"
  },
  "language_info": {
   "codemirror_mode": {
    "name": "ipython",
    "version": 2
   },
   "file_extension": ".py",
   "mimetype": "text/x-python",
   "name": "python",
   "nbconvert_exporter": "python",
   "pygments_lexer": "ipython2",
   "version": "2.7.14"
  }
 },
 "nbformat": 4,
 "nbformat_minor": 2
}

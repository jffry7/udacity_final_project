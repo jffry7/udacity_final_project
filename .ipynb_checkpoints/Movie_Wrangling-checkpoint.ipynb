{
 "cells": [
  {
   "cell_type": "code",
   "execution_count": 1,
   "metadata": {},
   "outputs": [],
   "source": [
    "import numpy as np\n",
    "import pandas as pd"
   ]
  },
  {
   "cell_type": "code",
   "execution_count": 2,
   "metadata": {},
   "outputs": [],
   "source": [
    "movie_data_df = pd.read_csv('tmdb-movies.csv', header=0)\n",
    "# import data and use row 0 as index"
   ]
  },
  {
   "cell_type": "code",
   "execution_count": 3,
   "metadata": {},
   "outputs": [],
   "source": [
    "new_moviedb_df =  movie_data_df.join(movie_data_df.pop('genres').str.get_dummies())\n",
    "# split the genres column to separate columns for ease of data corelation\n",
    "# source: https://stackoverflow.com/questions/47248727/parsing-csv-file-with-pandas-in-python3"
   ]
  },
  {
   "cell_type": "code",
   "execution_count": 4,
   "metadata": {},
   "outputs": [],
   "source": [
    "# command ref\n",
    "# new_moviedb_df.iloc[:, 21:].head() ---look at specific columns by numeric equivalent\n",
    "# new_moviedb_df[['Adventure', 'Comedy']].head() ---look by column name\n",
    "# new_moviedb_df.columns[20 : 42] ---display column name\n",
    "# new_moviedb_df.iloc[:, 20:42].columns.values.tolist() ---list column names\n",
    "# new_moviedb_df.iloc[:, 20:42].applymap(lambda x: True if x == 1 else x)\n",
    "# new_moviedb_df.groupby('Action', as_index=False).mean()['revenue'] ---group by genre and look at revenue mean\n",
    "# movie_data_df[movie_data_df.revenue != 0] ---remove 0 field in revenue"
   ]
  },
  {
   "cell_type": "code",
   "execution_count": 5,
   "metadata": {},
   "outputs": [],
   "source": [
    "new_moviedb_df.iloc[:, 20 : 42] = new_moviedb_df.iloc[:, 20 : 42].applymap(lambda x: True if x == 1 else x).applymap(lambda x: False if x== 0 else x)\n",
    "# Convert 0 and 1 to Boolean for the Genre field\n",
    "# https://stackoverflow.com/questions/38499747/converting-all-occurrence-of-true-false-to-1-0-in-a-dataframe-with-mixed-datatyp"
   ]
  },
  {
   "cell_type": "code",
   "execution_count": 26,
   "metadata": {},
   "outputs": [],
   "source": [
    "def remove_zero_row(df, row_name):\n",
    "    \"\"\"\n",
    "    Remove the whole row when there is a '0' value in the specified row name\n",
    "    \"\"\"\n",
    "    return df[df[row_name] != 0]\n",
    "\n",
    "def get_genre_mean(df, group_row, look_at_row):\n",
    "    \"\"\"\n",
    "    Gets the mean of the genre row \"look_at_row\" from a specified grouped df by \"group_row\"\n",
    "    \"\"\"\n",
    "    return df.groupby(group_row, as_index=False).mean()[look_at_row].loc[1]\n",
    "    # loc[1] is meant to get the value only for boolean \"True\" dataset"
   ]
  },
  {
   "cell_type": "code",
   "execution_count": 7,
   "metadata": {},
   "outputs": [],
   "source": [
    "# new_moviedb_df_nonzero = new_moviedb_df[new_moviedb_df.revenue != 0]\n",
    "nonzero_revenue_moviedb_df = remove_zero_row(new_moviedb_df, 'revenue')"
   ]
  },
  {
   "cell_type": "code",
   "execution_count": 8,
   "metadata": {},
   "outputs": [
    {
     "data": {
      "text/html": [
       "<div>\n",
       "<style scoped>\n",
       "    .dataframe tbody tr th:only-of-type {\n",
       "        vertical-align: middle;\n",
       "    }\n",
       "\n",
       "    .dataframe tbody tr th {\n",
       "        vertical-align: top;\n",
       "    }\n",
       "\n",
       "    .dataframe thead th {\n",
       "        text-align: right;\n",
       "    }\n",
       "</style>\n",
       "<table border=\"1\" class=\"dataframe\">\n",
       "  <thead>\n",
       "    <tr style=\"text-align: right;\">\n",
       "      <th></th>\n",
       "      <th>count</th>\n",
       "      <th>mean</th>\n",
       "      <th>std</th>\n",
       "      <th>min</th>\n",
       "      <th>25%</th>\n",
       "      <th>50%</th>\n",
       "      <th>75%</th>\n",
       "      <th>max</th>\n",
       "    </tr>\n",
       "  </thead>\n",
       "  <tbody>\n",
       "    <tr>\n",
       "      <th>0</th>\n",
       "      <td>3589.0</td>\n",
       "      <td>7.221415e+07</td>\n",
       "      <td>1.300131e+08</td>\n",
       "      <td>2.0</td>\n",
       "      <td>5867686.0</td>\n",
       "      <td>27379978.0</td>\n",
       "      <td>82150642.0</td>\n",
       "      <td>1.845034e+09</td>\n",
       "    </tr>\n",
       "    <tr>\n",
       "      <th>1</th>\n",
       "      <td>1261.0</td>\n",
       "      <td>1.376238e+08</td>\n",
       "      <td>2.231144e+08</td>\n",
       "      <td>3.0</td>\n",
       "      <td>14567883.0</td>\n",
       "      <td>55583804.0</td>\n",
       "      <td>161626121.0</td>\n",
       "      <td>2.781506e+09</td>\n",
       "    </tr>\n",
       "  </tbody>\n",
       "</table>\n",
       "</div>"
      ],
      "text/plain": [
       "    count          mean           std  min         25%         50%  \\\n",
       "0  3589.0  7.221415e+07  1.300131e+08  2.0   5867686.0  27379978.0   \n",
       "1  1261.0  1.376238e+08  2.231144e+08  3.0  14567883.0  55583804.0   \n",
       "\n",
       "           75%           max  \n",
       "0   82150642.0  1.845034e+09  \n",
       "1  161626121.0  2.781506e+09  "
      ]
     },
     "execution_count": 8,
     "metadata": {},
     "output_type": "execute_result"
    }
   ],
   "source": [
    "nonzero_revenue_moviedb_df.groupby('Action', as_index=False).describe()['revenue']"
   ]
  },
  {
   "cell_type": "code",
   "execution_count": 9,
   "metadata": {},
   "outputs": [
    {
     "data": {
      "text/plain": [
       "0    1845034188\n",
       "1    2781505847\n",
       "Name: revenue, dtype: int64"
      ]
     },
     "execution_count": 9,
     "metadata": {},
     "output_type": "execute_result"
    }
   ],
   "source": [
    "nonzero_revenue_moviedb_df.groupby('Action', as_index=False).max()['revenue']"
   ]
  },
  {
   "cell_type": "code",
   "execution_count": 10,
   "metadata": {},
   "outputs": [
    {
     "data": {
      "text/plain": [
       "0    3.055967e+07\n",
       "1    7.276462e+07\n",
       "Name: revenue, dtype: float64"
      ]
     },
     "execution_count": 10,
     "metadata": {},
     "output_type": "execute_result"
    }
   ],
   "source": [
    "new_moviedb_df.groupby('Action', as_index=False).mean()['revenue']"
   ]
  },
  {
   "cell_type": "code",
   "execution_count": 19,
   "metadata": {},
   "outputs": [
    {
     "data": {
      "text/plain": [
       "0    7.221415e+07\n",
       "1    1.376238e+08\n",
       "Name: revenue, dtype: float64"
      ]
     },
     "execution_count": 19,
     "metadata": {},
     "output_type": "execute_result"
    }
   ],
   "source": [
    "nonzero_revenue_moviedb_df.groupby('Action', as_index=False).mean()['revenue']"
   ]
  },
  {
   "cell_type": "code",
   "execution_count": 25,
   "metadata": {},
   "outputs": [
    {
     "data": {
      "text/plain": [
       "137623797.06106263"
      ]
     },
     "execution_count": 25,
     "metadata": {},
     "output_type": "execute_result"
    }
   ],
   "source": [
    "# nonzero_revenue_moviedb_df.groupby('Action', as_index=False).mean()['revenue'].loc[1]\n",
    "get_genre_mean(nonzero_revenue_moviedb_df, 'Action', 'revenue')"
   ]
  },
  {
   "cell_type": "code",
   "execution_count": null,
   "metadata": {},
   "outputs": [],
   "source": []
  }
 ],
 "metadata": {
  "kernelspec": {
   "display_name": "Python 2",
   "language": "python",
   "name": "python2"
  },
  "language_info": {
   "codemirror_mode": {
    "name": "ipython",
    "version": 2
   },
   "file_extension": ".py",
   "mimetype": "text/x-python",
   "name": "python",
   "nbconvert_exporter": "python",
   "pygments_lexer": "ipython2",
   "version": "2.7.14"
  }
 },
 "nbformat": 4,
 "nbformat_minor": 2
}

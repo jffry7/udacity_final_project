{
 "cells": [
  {
   "cell_type": "code",
   "execution_count": 1,
   "metadata": {},
   "outputs": [],
   "source": [
    "import numpy as np\n",
    "import pandas as pd\n",
    "import matplotlib.pyplot as plt\n",
    "import seaborn as sns\n",
    "from IPython.core.display import display, HTML"
   ]
  },
  {
   "cell_type": "code",
   "execution_count": 2,
   "metadata": {},
   "outputs": [],
   "source": [
    "def remove_zero_row(df, row_name):\n",
    "    \"\"\"\n",
    "    Remove the whole row when there is a '0' value.\n",
    "    It looks at the specified row name\n",
    "    \"\"\"\n",
    "    return df[df[row_name] != 0]\n",
    "\n",
    "\n",
    "def get_mean_genre_by_mos(df, genre):\n",
    "    \"\"\"\n",
    "    Gets the mean of the dataset.\n",
    "    by grouping it with month and 'genre'\n",
    "    \"\"\"\n",
    "    return df.groupby(['month', genre], as_index=False).mean()\n",
    "\n",
    "\n",
    "def barplot_data(df, y_datapoint, genre):\n",
    "    \"\"\"\n",
    "    Creates a barplot of 'month' against selected data_view.\n",
    "    \"\"\"\n",
    "    # plt.figure(figsize=(10,8))\n",
    "    sns.set_style(\"whitegrid\")\n",
    "    sns.set_context(\"notebook\", font_scale=1)\n",
    "    sns.barplot(x='month', \n",
    "                y=y_datapoint, \n",
    "                hue=genre, \n",
    "                data=df.sort_values(['month', genre]),\n",
    "                order=[\"Jan\", \"Feb\", \"Mar\", \"Apr\",\n",
    "                         \"May\", \"Jun\", \"Jul\", \"Aug\",\n",
    "                         \"Sep\", \"Oct\", \"Nov\", \"Dec\"\n",
    "                        ]\n",
    "                )\n",
    "    plt.xlabel(\"Month\")\n",
    "    plt.ylabel(\"Mean {}\".format(y_datapoint.title()))\n",
    "    plt.title(\"Mean {} of {} Movies\".format(y_datapoint.title(),\n",
    "                                            genre.title()))\n",
    "    plt.show()\n",
    "    return\n",
    "\n",
    "\n",
    "def scatterplot_data(df, x_datapoint, s_datapoint, genre):\n",
    "    \"\"\"\n",
    "    Creates a scatter plot of selected x_datapoint against 'revenue'.\n",
    "    Then use s_datapoint as a scaler but not devided by std() due to size implication\n",
    "    \"\"\"\n",
    "    datapoint_other = plt.scatter(df['revenue'][::2], \n",
    "                df[x_datapoint][::2], \n",
    "                s=(df[s_datapoint][::2]), \n",
    "                color=['r'], alpha=0.5\n",
    "               )\n",
    "    datapoint_genre_selected = plt.scatter(df['revenue'][1::2], \n",
    "                df[x_datapoint][1::2], \n",
    "                s=(df[s_datapoint][1::2]), \n",
    "                color=['g'], alpha=0.5\n",
    "               )\n",
    "    # scaler was not devided by the std() deviation as the bubble appears too small to make small difference between data points\n",
    "    # Note that the dataframe have 2 sets of 12 month revenue one for Horror and one for other genres. \n",
    "    # Even index are other genre and odd are selected genre on input dataframe\n",
    "    # horror_mean_moviedb_df.head() sample\n",
    "    # \tmonth\tHorror...........\n",
    "    # 0\tApr\tFalse\t44142.426667\n",
    "    # 1\tApr\tTrue\t40241.644444\n",
    "\n",
    "    plt.legend((datapoint_other, datapoint_genre_selected),\n",
    "               ('Other', genre),\n",
    "               scatterpoints=1,\n",
    "               loc='upper left',\n",
    "               ncol=3,\n",
    "               fontsize=10\n",
    "               )\n",
    "    # https://stackoverflow.com/questions/17411940/matplotlib-scatter-plot-legend\n",
    "    plt.title(\"{} vs Revenue with {} scaled graph of {} genre\".format(x_datapoint.title(),\n",
    "                                                               s_datapoint.title(),\n",
    "                                                               genre.title()\n",
    "                                                              )\n",
    "             )\n",
    "    plt.xlabel(\"Mean {}\".format(x_datapoint.title()))\n",
    "    plt.ylabel(\"Mean Revenue\")\n",
    "    plt.show()\n",
    "    return\n",
    "\n"
   ]
  },
  {
   "cell_type": "code",
   "execution_count": 3,
   "metadata": {},
   "outputs": [],
   "source": [
    "movie_data_df = pd.read_csv('tmdb-movies.csv', header=0)\n",
    "# import data and use row 0 as index"
   ]
  },
  {
   "cell_type": "code",
   "execution_count": 4,
   "metadata": {},
   "outputs": [],
   "source": [
    "new_moviedb_df =  movie_data_df.join(movie_data_df.pop('genres').str.get_dummies())\n",
    "# split the genres column to separate columns for ease of data corelation\n",
    "# source: https://stackoverflow.com/questions/47248727/parsing-csv-file-with-pandas-in-python3"
   ]
  },
  {
   "cell_type": "code",
   "execution_count": 5,
   "metadata": {},
   "outputs": [],
   "source": [
    "new_moviedb_df.iloc[:, 20 : 42] = new_moviedb_df.iloc[:, 20 : 42].applymap(lambda x: True \n",
    "                                                                           if x == 1 \n",
    "                                                                           else x).applymap(lambda x: False \n",
    "                                                                                            if x== 0 \n",
    "                                                                                            else x)\n",
    "# Genre location/index has been hardcoded by in future I hope to get this automated thru a variable\n",
    "# Convert 0 and 1 to Boolean for the Genre field\n",
    "# https://stackoverflow.com/questions/38499747/converting-all-occurrence-of-true-false-to-1-0-in-a-dataframe-with-mixed-datatyp"
   ]
  },
  {
   "cell_type": "code",
   "execution_count": 6,
   "metadata": {},
   "outputs": [],
   "source": [
    "new_moviedb_df['month'] = pd.DatetimeIndex(new_moviedb_df['release_date']).month\n",
    "# Adds a series on the current dataframe by converting the release date to Month of Release"
   ]
  },
  {
   "cell_type": "code",
   "execution_count": 7,
   "metadata": {},
   "outputs": [],
   "source": [
    "import calendar\n",
    "new_moviedb_df['month'] = new_moviedb_df['month'].apply(lambda x: calendar.month_abbr[x])\n",
    "# Converts Month numeric to String equivalent\n",
    "# https://stackoverflow.com/questions/37625334/python-pandas-convert-month-int-to-month-name"
   ]
  },
  {
   "cell_type": "code",
   "execution_count": 8,
   "metadata": {},
   "outputs": [],
   "source": [
    "# Data Clean Up\n",
    "nonzero_moviedb_df = remove_zero_row(new_moviedb_df, 'revenue')\n",
    "nonzero_moviedb_df = remove_zero_row(new_moviedb_df, 'popularity')\n",
    "nonzero_moviedb_df = remove_zero_row(new_moviedb_df, 'vote_count')\n",
    "nonzero_moviedb_df = remove_zero_row(new_moviedb_df, 'vote_average')\n",
    "# clean zero rows/index looking at specific columns\n",
    "# Calls the function to remove dataset/whole row"
   ]
  },
  {
   "cell_type": "code",
   "execution_count": 11,
   "metadata": {},
   "outputs": [
    {
     "data": {
      "text/html": [
       "<header><center><h1>Movie Analysis Project</h1></center></header>"
      ],
      "text/plain": [
       "<IPython.core.display.HTML object>"
      ]
     },
     "metadata": {},
     "output_type": "display_data"
    },
    {
     "data": {
      "text/html": [
       "<header><h3>Is movie earning affected by genre release on relevent season/month of release?</h3></header>"
      ],
      "text/plain": [
       "<IPython.core.display.HTML object>"
      ]
     },
     "metadata": {},
     "output_type": "display_data"
    },
    {
     "data": {
      "text/html": [
       "<section>- Revenue</section>"
      ],
      "text/plain": [
       "<IPython.core.display.HTML object>"
      ]
     },
     "metadata": {},
     "output_type": "display_data"
    },
    {
     "data": {
      "text/html": [
       "<section>- Popularity</section>"
      ],
      "text/plain": [
       "<IPython.core.display.HTML object>"
      ]
     },
     "metadata": {},
     "output_type": "display_data"
    },
    {
     "data": {
      "text/html": [
       "<section>- Average Vote</section>"
      ],
      "text/plain": [
       "<IPython.core.display.HTML object>"
      ]
     },
     "metadata": {},
     "output_type": "display_data"
    },
    {
     "data": {
      "text/html": [
       "<article><h4>Mean Revenue</h4></article>"
      ],
      "text/plain": [
       "<IPython.core.display.HTML object>"
      ]
     },
     "metadata": {},
     "output_type": "display_data"
    },
    {
     "data": {
      "text/html": [
       "<article>One would think that horror or thriller movies would be popular during holloween period. In this analysis we will look if a month release of a certain genre like horror will have impact if release during relevant season/month.</article>"
      ],
      "text/plain": [
       "<IPython.core.display.HTML object>"
      ]
     },
     "metadata": {},
     "output_type": "display_data"
    },
    {
     "data": {
      "text/html": [
       "<article>The figure below shows the mean average of revenue for a horror movie has been group release month. This is compared to movies with other genres."
      ],
      "text/plain": [
       "<IPython.core.display.HTML object>"
      ]
     },
     "metadata": {},
     "output_type": "display_data"
    },
    {
     "data": {
      "image/png": "[encoded data removed]",
      "text/plain": [
       "<matplotlib.figure.Figure at 0xe184fd0>"
      ]
     },
     "metadata": {},
     "output_type": "display_data"
    },
    {
     "data": {
      "text/html": [
       "<article>Looking at this more it doesnt seem to show significant advantage of having a themed genre like horror during holloween season. If anything the love season of February looks more promising as the revenue mean average looks close to other genres. While peak of revenue looks to be during Christmas season it is still pretty close to Feb and Jun.</article>"
      ],
      "text/plain": [
       "<IPython.core.display.HTML object>"
      ]
     },
     "metadata": {},
     "output_type": "display_data"
    }
   ],
   "source": [
    "display(HTML(\"<header><center><h1>Movie Analysis Project</h1></center></header>\"))\n",
    "display(HTML(\"<header><h3>Is movie earning affected by genre release on relevent season/month of release?</h3></header>\"))\n",
    "display(HTML(\"<section>- Revenue</section>\"))\n",
    "display(HTML(\"<section>- Popularity</section>\"))\n",
    "display(HTML(\"<section>- Average Vote</section>\"))\n",
    "display(HTML(\"<article><h4>Mean Revenue</h4></article>\"))\n",
    "display(HTML(\"<article>One would think that horror or thriller movies would be popular during holloween period. In this analysis we will look if a month release of a certain genre like horror will have impact if release during relevant season/month.</article>\"))\n",
    "display(HTML(\"<article>The figure below shows the mean average of revenue for a horror movie has been group release month. This is compared to movies with other genres.\"))\n",
    "\n",
    "horror_mean_moviedb_df = get_mean_genre_by_mos(nonzero_moviedb_df, 'Horror')\n",
    "# Group by month and genre specified when function was called\n",
    "plt.figure(figsize=(10,8))\n",
    "# sets the size of the graph for the next command\n",
    "barplot_data(horror_mean_moviedb_df, 'revenue', 'Horror')\n",
    "# Calls function to make a bar plot with database, data and genre\n",
    "\n",
    "display(HTML(\"<article>Looking at this more it doesnt seem to show significant advantage of having a themed genre like horror during holloween season. If anything the love season of February looks more promising as the revenue mean average looks close to other genres. While peak of revenue looks to be during Christmas season it is still pretty close to Feb and Jun.</article>\"))"
   ]
  },
  {
   "cell_type": "code",
   "execution_count": 13,
   "metadata": {},
   "outputs": [
    {
     "data": {
      "text/html": [
       "<article><h4>Popularity vs Revenue</h4></article>"
      ],
      "text/plain": [
       "<IPython.core.display.HTML object>"
      ]
     },
     "metadata": {},
     "output_type": "display_data"
    },
    {
     "data": {
      "image/png": "[encoded data removed]",
      "text/plain": [
       "<matplotlib.figure.Figure at 0x1063f978>"
      ]
     },
     "metadata": {},
     "output_type": "display_data"
    },
    {
     "data": {
      "text/html": [
       "<article>Looking at a the scatter plot of the mean for popularity and revenue, the trends gernerally looks to be proportional to each other. However, the horror movies looks to be genreally popular and hence reflect lower mean revenue.</article>"
      ],
      "text/plain": [
       "<IPython.core.display.HTML object>"
      ]
     },
     "metadata": {},
     "output_type": "display_data"
    }
   ],
   "source": [
    "display(HTML(\"<article><h4>Popularity vs Revenue</h4></article>\"))\n",
    "\n",
    "plt.figure(figsize=(10,8))\n",
    "# sets the size of the graph for the next command\n",
    "scatterplot_data(horror_mean_moviedb_df, 'popularity', 'vote_count', 'Horror')\n",
    "\n",
    "display(HTML(\"<article>Looking at a the scatter plot of the mean for popularity and revenue, the trends gernerally looks to be proportional to each other. However, the horror movies looks to be genreally popular and hence reflect lower mean revenue.</article>\"))\n"
   ]
  },
  {
   "cell_type": "code",
   "execution_count": null,
   "metadata": {},
   "outputs": [],
   "source": []
  }
 ],
 "metadata": {
  "kernelspec": {
   "display_name": "Python 2",
   "language": "python",
   "name": "python2"
  },
  "language_info": {
   "codemirror_mode": {
    "name": "ipython",
    "version": 2
   },
   "file_extension": ".py",
   "mimetype": "text/x-python",
   "name": "python",
   "nbconvert_exporter": "python",
   "pygments_lexer": "ipython2",
   "version": "2.7.14"
  }
 },
 "nbformat": 4,
 "nbformat_minor": 2
}

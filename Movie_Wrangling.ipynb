{
 "cells": [
  {
   "cell_type": "code",
   "execution_count": 1,
   "metadata": {},
   "outputs": [],
   "source": [
    "import numpy as np\n",
    "import pandas as pd"
   ]
  },
  {
   "cell_type": "code",
   "execution_count": 4,
   "metadata": {},
   "outputs": [],
   "source": [
    "# command ref\n",
    "# new_moviedb_df.iloc[:, 21:].head() ---look at specific columns by numeric equivalent\n",
    "# new_moviedb_df[['Adventure', 'Comedy']].head() ---look by column name\n",
    "# new_moviedb_df.columns[20 : 42] ---display column name\n",
    "# new_moviedb_df.iloc[:, 20:42].columns.values.tolist() ---list column names\n",
    "# new_moviedb_df.iloc[:, 20:42].applymap(lambda x: True if x == 1 else x)\n",
    "# new_moviedb_df.groupby('Action', as_index=False).mean()['revenue'] ---group by genre and look at revenue mean\n",
    "# movie_data_df[movie_data_df.revenue != 0] ---remove 0 field in revenue"
   ]
  },
  {
   "cell_type": "code",
   "execution_count": 2,
   "metadata": {},
   "outputs": [],
   "source": [
    "movie_data_df = pd.read_csv('tmdb-movies.csv', header=0)\n",
    "# import data and use row 0 as index"
   ]
  },
  {
   "cell_type": "code",
   "execution_count": 3,
   "metadata": {},
   "outputs": [],
   "source": [
    "new_moviedb_df =  movie_data_df.join(movie_data_df.pop('genres').str.get_dummies())\n",
    "# split the genres column to separate columns for ease of data corelation\n",
    "# source: https://stackoverflow.com/questions/47248727/parsing-csv-file-with-pandas-in-python3"
   ]
  },
  {
   "cell_type": "code",
   "execution_count": 21,
   "metadata": {},
   "outputs": [],
   "source": [
    "new_moviedb_df.iloc[:, 20 : 42] = new_moviedb_df.iloc[:, 20 : 42].applymap(lambda x: True \n",
    "                                                                           if x == 1 \n",
    "                                                                           else x).applymap(lambda x: False \n",
    "                                                                                            if x== 0 \n",
    "                                                                                            else x)\n",
    "# Convert 0 and 1 to Boolean for the Genre field\n",
    "# https://stackoverflow.com/questions/38499747/converting-all-occurrence-of-true-false-to-1-0-in-a-dataframe-with-mixed-datatyp"
   ]
  },
  {
   "cell_type": "code",
   "execution_count": 6,
   "metadata": {},
   "outputs": [],
   "source": [
    "new_moviedb_df['month'] = pd.DatetimeIndex(new_moviedb_df['release_date']).month"
   ]
  },
  {
   "cell_type": "code",
   "execution_count": 7,
   "metadata": {},
   "outputs": [],
   "source": [
    "def remove_zero_row(df, row_name):\n",
    "    \"\"\"\n",
    "    Remove the whole row when there is a '0' value in the specified row name\n",
    "    \"\"\"\n",
    "    return df[df[row_name] != 0]\n",
    "\n",
    "def get_genre_mean(df, group_row, look_at_row):\n",
    "    \"\"\"\n",
    "    Gets the mean of the genre row \"look_at_row\" from a specified grouped df by \"group_row\"\n",
    "    \"\"\"\n",
    "    return df.groupby(group_row, as_index=False).mean()[look_at_row].loc[1]\n",
    "    # loc[1] is meant to get the value only for boolean \"True\" dataset"
   ]
  },
  {
   "cell_type": "code",
   "execution_count": 8,
   "metadata": {},
   "outputs": [],
   "source": [
    "# new_moviedb_df_nonzero = new_moviedb_df[new_moviedb_df.revenue != 0]\n",
    "nonzero_revenue_moviedb_df = remove_zero_row(new_moviedb_df, 'revenue')"
   ]
  },
  {
   "cell_type": "code",
   "execution_count": 9,
   "metadata": {},
   "outputs": [
    {
     "data": {
      "text/html": [
       "<div>\n",
       "<style scoped>\n",
       "    .dataframe tbody tr th:only-of-type {\n",
       "        vertical-align: middle;\n",
       "    }\n",
       "\n",
       "    .dataframe tbody tr th {\n",
       "        vertical-align: top;\n",
       "    }\n",
       "\n",
       "    .dataframe thead th {\n",
       "        text-align: right;\n",
       "    }\n",
       "</style>\n",
       "<table border=\"1\" class=\"dataframe\">\n",
       "  <thead>\n",
       "    <tr style=\"text-align: right;\">\n",
       "      <th></th>\n",
       "      <th>count</th>\n",
       "      <th>mean</th>\n",
       "      <th>std</th>\n",
       "      <th>min</th>\n",
       "      <th>25%</th>\n",
       "      <th>50%</th>\n",
       "      <th>75%</th>\n",
       "      <th>max</th>\n",
       "    </tr>\n",
       "  </thead>\n",
       "  <tbody>\n",
       "    <tr>\n",
       "      <th>0</th>\n",
       "      <td>3589.0</td>\n",
       "      <td>7.221415e+07</td>\n",
       "      <td>1.300131e+08</td>\n",
       "      <td>2.0</td>\n",
       "      <td>5867686.0</td>\n",
       "      <td>27379978.0</td>\n",
       "      <td>82150642.0</td>\n",
       "      <td>1.845034e+09</td>\n",
       "    </tr>\n",
       "    <tr>\n",
       "      <th>1</th>\n",
       "      <td>1261.0</td>\n",
       "      <td>1.376238e+08</td>\n",
       "      <td>2.231144e+08</td>\n",
       "      <td>3.0</td>\n",
       "      <td>14567883.0</td>\n",
       "      <td>55583804.0</td>\n",
       "      <td>161626121.0</td>\n",
       "      <td>2.781506e+09</td>\n",
       "    </tr>\n",
       "  </tbody>\n",
       "</table>\n",
       "</div>"
      ],
      "text/plain": [
       "    count          mean           std  min         25%         50%  \\\n",
       "0  3589.0  7.221415e+07  1.300131e+08  2.0   5867686.0  27379978.0   \n",
       "1  1261.0  1.376238e+08  2.231144e+08  3.0  14567883.0  55583804.0   \n",
       "\n",
       "           75%           max  \n",
       "0   82150642.0  1.845034e+09  \n",
       "1  161626121.0  2.781506e+09  "
      ]
     },
     "execution_count": 9,
     "metadata": {},
     "output_type": "execute_result"
    }
   ],
   "source": [
    "nonzero_revenue_moviedb_df.groupby('Action', as_index=False).describe()['revenue']"
   ]
  },
  {
   "cell_type": "code",
   "execution_count": 10,
   "metadata": {},
   "outputs": [
    {
     "data": {
      "text/plain": [
       "0    1845034188\n",
       "1    2781505847\n",
       "Name: revenue, dtype: int64"
      ]
     },
     "execution_count": 10,
     "metadata": {},
     "output_type": "execute_result"
    }
   ],
   "source": [
    "nonzero_revenue_moviedb_df.groupby('Action', as_index=False).max()['revenue']"
   ]
  },
  {
   "cell_type": "code",
   "execution_count": 11,
   "metadata": {},
   "outputs": [
    {
     "data": {
      "text/plain": [
       "0    3.055967e+07\n",
       "1    7.276462e+07\n",
       "Name: revenue, dtype: float64"
      ]
     },
     "execution_count": 11,
     "metadata": {},
     "output_type": "execute_result"
    }
   ],
   "source": [
    "new_moviedb_df.groupby('Action', as_index=False).mean()['revenue']"
   ]
  },
  {
   "cell_type": "code",
   "execution_count": 12,
   "metadata": {},
   "outputs": [
    {
     "data": {
      "text/plain": [
       "0    7.221415e+07\n",
       "1    1.376238e+08\n",
       "Name: revenue, dtype: float64"
      ]
     },
     "execution_count": 12,
     "metadata": {},
     "output_type": "execute_result"
    }
   ],
   "source": [
    "nonzero_revenue_moviedb_df.groupby('Action', as_index=False).mean()['revenue']"
   ]
  },
  {
   "cell_type": "code",
   "execution_count": 13,
   "metadata": {},
   "outputs": [
    {
     "data": {
      "text/plain": [
       "137623797.06106263"
      ]
     },
     "execution_count": 13,
     "metadata": {},
     "output_type": "execute_result"
    }
   ],
   "source": [
    "# nonzero_revenue_moviedb_df.groupby('Action', as_index=False).mean()['revenue'].loc[1]\n",
    "get_genre_mean(nonzero_revenue_moviedb_df, 'Action', 'revenue')"
   ]
  },
  {
   "cell_type": "code",
   "execution_count": 22,
   "metadata": {},
   "outputs": [
    {
     "data": {
      "text/plain": [
       "{(False,\n",
       "  1L): Int64Index([   12,    57,   102,   105,   118,   225,   269,   270,   370,\n",
       "               489,\n",
       "             ...\n",
       "             10331, 10340, 10344, 10425, 10525, 10552, 10566, 10650, 10653,\n",
       "             10764],\n",
       "            dtype='int64', length=224),\n",
       " (False,\n",
       "  2L): Int64Index([   23,    64,    97,   129,   132,   179,   211,   235,   297,\n",
       "               434,\n",
       "             ...\n",
       "             10220, 10258, 10295, 10297, 10352, 10481, 10515, 10519, 10661,\n",
       "             10716],\n",
       "            dtype='int64', length=247),\n",
       " (False,\n",
       "  3L): Int64Index([    2,    18,    46,    62,    89,   111,   162,   163,   188,\n",
       "               205,\n",
       "             ...\n",
       "             10394, 10440, 10504, 10517, 10528, 10544, 10557, 10690, 10787,\n",
       "             10812],\n",
       "            dtype='int64', length=269),\n",
       " (False,\n",
       "  4L): Int64Index([   44,    72,    80,   115,   125,   130,   136,   180,   220,\n",
       "               230,\n",
       "             ...\n",
       "             10218, 10259, 10261, 10272, 10301, 10312, 10354, 10514, 10558,\n",
       "             10607],\n",
       "            dtype='int64', length=241),\n",
       " (False,\n",
       "  5L): Int64Index([   32,    86,    87,   177,   183,   304,   306,   344,   378,\n",
       "               474,\n",
       "             ...\n",
       "             10247, 10274, 10289, 10424, 10483, 10485, 10503, 10649, 10727,\n",
       "             10817],\n",
       "            dtype='int64', length=254),\n",
       " (False,\n",
       "  6L): Int64Index([    8,     9,    26,    30,    79,   104,   113,   119,   131,\n",
       "               138,\n",
       "             ...\n",
       "             10511, 10533, 10542, 10556, 10584, 10658, 10728, 10740, 10756,\n",
       "             10822],\n",
       "            dtype='int64', length=276),\n",
       " (False,\n",
       "  7L): Int64Index([   47,    56,    69,    85,    90,    94,   123,   155,   157,\n",
       "               178,\n",
       "             ...\n",
       "             10402, 10482, 10496, 10548, 10573, 10578, 10588, 10755, 10760,\n",
       "             10828],\n",
       "            dtype='int64', length=268),\n",
       " (False,\n",
       "  8L): Int64Index([   34,    40,    98,   128,   134,   139,   150,   167,   170,\n",
       "               172,\n",
       "             ...\n",
       "             10486, 10488, 10509, 10523, 10541, 10568, 10589, 10606, 10610,\n",
       "             10848],\n",
       "            dtype='int64', length=306),\n",
       " (False,\n",
       "  9L): Int64Index([    7,    36,    51,    52,    70,    71,    73,    81,    83,\n",
       "                88,\n",
       "             ...\n",
       "             10305, 10343, 10347, 10348, 10367, 10491, 10499, 10574, 10725,\n",
       "             10757],\n",
       "            dtype='int64', length=498),\n",
       " (False,\n",
       "  10L): Int64Index([   33,    35,    42,    49,    55,    96,   106,   121,   124,\n",
       "               126,\n",
       "             ...\n",
       "             10540, 10546, 10596, 10633, 10683, 10759, 10770, 10775, 10788,\n",
       "             10793],\n",
       "            dtype='int64', length=357),\n",
       " (False,\n",
       "  11L): Int64Index([   19,    28,    37,    39,    50,    58,    68,    76,    77,\n",
       "                78,\n",
       "             ...\n",
       "             10318, 10356, 10368, 10479, 10487, 10508, 10510, 10516, 10593,\n",
       "             10771],\n",
       "            dtype='int64', length=275),\n",
       " (False,\n",
       "  12L): Int64Index([    5,    15,    24,    53,    91,    95,   117,   144,   634,\n",
       "               641,\n",
       "             ...\n",
       "             10594, 10601, 10608, 10609, 10611, 10648, 10654, 10691, 10762,\n",
       "             10780],\n",
       "            dtype='int64', length=374),\n",
       " (True,\n",
       "  1L): Int64Index([   16,    27,    59,    84,   696,   699,   700,   705,   715,\n",
       "               896,  1388,  1394,  1419,  1465,  1955,  2079,  2083,  2445,\n",
       "              2471,  2675,  2906,  2912,  3127,  3373,  3380,  3449,  3462,\n",
       "              3615,  3960,  4054,  4055,  4090,  4362,  4395,  4431,  4459,\n",
       "              4499,  4512,  5011,  5070,  5138,  5307,  5336,  5349,  5461,\n",
       "              5496,  5501,  5509,  6229,  6274,  6384,  6554,  6738,  7142,\n",
       "              7287,  7309,  7335,  7479,  7526,  7586,  7644,  7797,  8325,\n",
       "              8327,  8470,  8579,  9088,  9248,  9320,  9402,  9427,  9510,\n",
       "              9952,  9998, 10023, 10291, 10293, 10536],\n",
       "            dtype='int64'),\n",
       " (True,\n",
       "  2L): Int64Index([   11,   135,   666,   722,  1471,  1552,  1612,  1665,  1990,\n",
       "              2027,  2032,  2049,  2119,  2191,  2441,  2736,  2802,  2878,\n",
       "              2898,  2934,  3061,  3082,  3110,  3379,  3408,  3435,  3559,\n",
       "              3604,  3666,  3946,  4077,  4235,  4419,  4453,  4962,  4992,\n",
       "              5019,  5256,  5442,  5494,  5614,  6246,  6281,  6753,  6766,\n",
       "              7055,  7100,  7205,  7402,  7410,  7685,  7785,  7832,  8016,\n",
       "              8109,  8276,  8315,  8492,  8549,  8587,  8684,  8817,  8944,\n",
       "              9057,  9064,  9280,  9455,  9489,  9496,  9551,  9618, 10052,\n",
       "             10068, 10494, 10549, 10564],\n",
       "            dtype='int64'),\n",
       " (True,\n",
       "  3L): Int64Index([   31,    38,   631,   642,   674,   728,   745,  1329,  1352,\n",
       "              1398,\n",
       "             ...\n",
       "              9601,  9987,  9992, 10130, 10236, 10370, 10473, 10493, 10513,\n",
       "             10660],\n",
       "            dtype='int64', length=103),\n",
       " (True,\n",
       "  4L): Int64Index([    4,    14,    99,   153,   171,   250,   275,   654,   769,\n",
       "              1423,\n",
       "             ...\n",
       "              9400,  9514,  9568,  9614,  9665,  9770, 10113, 10242, 10400,\n",
       "             10777],\n",
       "            dtype='int64', length=104),\n",
       " (True,\n",
       "  5L): Int64Index([    1,    20,    22,    63,   137,   643,   655,   659,   660,\n",
       "              1342,\n",
       "             ...\n",
       "              9981, 10234, 10245, 10315, 10378, 10457, 10475, 10489, 10512,\n",
       "             10675],\n",
       "            dtype='int64', length=116),\n",
       " (True,\n",
       "  6L): Int64Index([    0,     6,    21,   648,   651,   663,   676,  1364,  1487,\n",
       "              1951,\n",
       "             ...\n",
       "             10366, 10401, 10409, 10495, 10498, 10599, 10651, 10692, 10779,\n",
       "             10791],\n",
       "            dtype='int64', length=134),\n",
       " (True,\n",
       "  7L): Int64Index([   13,    17,    25,   630,   644,   685,  1330,  1338,  1430,\n",
       "              1919,\n",
       "             ...\n",
       "              9980, 10077, 10227, 10361, 10472, 10527, 10595, 10647, 10761,\n",
       "             10819],\n",
       "            dtype='int64', length=116),\n",
       " (True,\n",
       "  8L): Int64Index([   43,    61,    65,   112,   114,   645,   661,   665,   734,\n",
       "               740,\n",
       "             ...\n",
       "              9705, 10018, 10028, 10054, 10226, 10281, 10364, 10365, 10572,\n",
       "             10597],\n",
       "            dtype='int64', length=125),\n",
       " (True,\n",
       "  9L): Int64Index([   29,    45,    60,   120,   637,   652,   783,   801,  1301,\n",
       "              1424,\n",
       "             ...\n",
       "              9699,  9813,  9881, 10006, 10178, 10246, 10389, 10507, 10656,\n",
       "             10766],\n",
       "            dtype='int64', length=111),\n",
       " (True,\n",
       "  10L): Int64Index([   10,    41,   632,   635,   640,   671,   682,   744,   898,\n",
       "              1399,  1527,  1534,  1538,  1653,  1952,  1960,  2220,  2571,\n",
       "              2661,  2685,  2764,  2810,  2849,  2881,  2918,  2932,  3217,\n",
       "              3378,  3397,  3460,  3654,  3923,  3963,  4189,  4231,  4365,\n",
       "              4422,  4498,  4538,  4952,  5130,  5362,  5372,  5392,  5396,\n",
       "              5424,  5447,  5485,  5487,  5514,  5666,  6065,  6095,  6167,\n",
       "              6226,  6254,  6296,  6315,  6469,  6566,  6695,  6706,  6914,\n",
       "              7038,  7059,  7197,  7383,  7442,  7739,  7882,  7989,  8032,\n",
       "              8041,  8108,  8170,  8250,  8264,  8476,  8488,  8721,  8891,\n",
       "              9092,  9258,  9267,  9278,  9369,  9374,  9724,  9751,  9769,\n",
       "              9849,  9934, 10036, 10142, 10143, 10224, 10249, 10336, 10438],\n",
       "            dtype='int64'),\n",
       " (True,\n",
       "  11L): Int64Index([   66,   109,  1518,  1607,  1948,  2020,  2043,  2416,  2436,\n",
       "              2670,  2680,  2854,  2896,  3008,  3392,  3437,  3473,  3621,\n",
       "              3926,  4025,  4205,  4234,  4242,  4277,  4367,  4374,  4478,\n",
       "              4484,  4706,  4953,  5000,  5241,  5247,  5266,  5281,  5334,\n",
       "              5348,  5427,  5484,  5527,  6156,  6171,  6203,  6557,  6592,\n",
       "              6786,  6967,  6970,  7008,  7009,  7028,  7332,  7455,  7468,\n",
       "              7887,  7913,  7938,  8071,  8128,  8139,  8267,  8271,  8472,\n",
       "              8487,  8510,  8672,  8704,  8709,  8716,  8989,  9043,  9183,\n",
       "              9214,  9228,  9484,  9602,  9790,  9856,  9993, 10244, 10251,\n",
       "             10252, 10521, 10529, 10531, 10539, 10778],\n",
       "            dtype='int64'),\n",
       " (True,\n",
       "  12L): Int64Index([    3,    54,   173,   656,   657,   658,   684,  1344,  1386,\n",
       "              1522,\n",
       "             ...\n",
       "             10501, 10565, 10602, 10617, 10665, 10689, 10724, 10758, 10829,\n",
       "             10835],\n",
       "            dtype='int64', length=112)}"
      ]
     },
     "execution_count": 22,
     "metadata": {},
     "output_type": "execute_result"
    }
   ],
   "source": [
    "nonzero_revenue_moviedb_df.groupby(['Action', 'month'], as_index=False).groups"
   ]
  },
  {
   "cell_type": "code",
   "execution_count": null,
   "metadata": {},
   "outputs": [],
   "source": []
  }
 ],
 "metadata": {
  "kernelspec": {
   "display_name": "Python 2",
   "language": "python",
   "name": "python2"
  },
  "language_info": {
   "codemirror_mode": {
    "name": "ipython",
    "version": 2
   },
   "file_extension": ".py",
   "mimetype": "text/x-python",
   "name": "python",
   "nbconvert_exporter": "python",
   "pygments_lexer": "ipython2",
   "version": "2.7.14"
  }
 },
 "nbformat": 4,
 "nbformat_minor": 2
}

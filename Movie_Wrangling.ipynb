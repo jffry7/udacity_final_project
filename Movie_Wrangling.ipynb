{
 "cells": [
  {
   "cell_type": "code",
   "execution_count": 1,
   "metadata": {},
   "outputs": [],
   "source": [
    "import numpy as np\n",
    "import pandas as pd"
   ]
  },
  {
   "cell_type": "code",
   "execution_count": 2,
   "metadata": {},
   "outputs": [],
   "source": [
    "# command ref\n",
    "# new_moviedb_df.iloc[:, 21:].head() ---look at specific columns by numeric equivalent\n",
    "# new_moviedb_df[['Adventure', 'Comedy']].head() ---look by column name\n",
    "# new_moviedb_df.columns[20 : 42] ---display column name\n",
    "# new_moviedb_df.iloc[:, 20:42].columns.values.tolist() ---list column names\n",
    "# new_moviedb_df.iloc[:, 20:42].applymap(lambda x: True if x == 1 else x)\n",
    "# new_moviedb_df.groupby('Action', as_index=False).mean()['revenue'] ---group by genre and look at revenue mean\n",
    "# movie_data_df[movie_data_df.revenue != 0] ---remove 0 field in revenue"
   ]
  },
  {
   "cell_type": "code",
   "execution_count": 3,
   "metadata": {},
   "outputs": [],
   "source": [
    "movie_data_df = pd.read_csv('tmdb-movies.csv', header=0)\n",
    "# import data and use row 0 as index"
   ]
  },
  {
   "cell_type": "code",
   "execution_count": 4,
   "metadata": {},
   "outputs": [],
   "source": [
    "new_moviedb_df =  movie_data_df.join(movie_data_df.pop('genres').str.get_dummies())\n",
    "# split the genres column to separate columns for ease of data corelation\n",
    "# source: https://stackoverflow.com/questions/47248727/parsing-csv-file-with-pandas-in-python3"
   ]
  },
  {
   "cell_type": "code",
   "execution_count": 5,
   "metadata": {},
   "outputs": [],
   "source": [
    "new_moviedb_df.iloc[:, 20 : 42] = new_moviedb_df.iloc[:, 20 : 42].applymap(lambda x: True \n",
    "                                                                           if x == 1 \n",
    "                                                                           else x).applymap(lambda x: False \n",
    "                                                                                            if x== 0 \n",
    "                                                                                            else x)\n",
    "# Convert 0 and 1 to Boolean for the Genre field\n",
    "# https://stackoverflow.com/questions/38499747/converting-all-occurrence-of-true-false-to-1-0-in-a-dataframe-with-mixed-datatyp"
   ]
  },
  {
   "cell_type": "code",
   "execution_count": 6,
   "metadata": {},
   "outputs": [],
   "source": [
    "new_moviedb_df['month'] = pd.DatetimeIndex(new_moviedb_df['release_date']).month"
   ]
  },
  {
   "cell_type": "code",
   "execution_count": 7,
   "metadata": {},
   "outputs": [],
   "source": [
    "def remove_zero_row(df, row_name):\n",
    "    \"\"\"\n",
    "    Remove the whole row when there is a '0' value in the specified row name\n",
    "    \"\"\"\n",
    "    return df[df[row_name] != 0]\n",
    "\n",
    "def get_genre_mean(df, group_row, look_at_row):\n",
    "    \"\"\"\n",
    "    Gets the mean of the genre row \"look_at_row\" from a specified grouped df by \"group_row\"\n",
    "    \"\"\"\n",
    "    return df.groupby(group_row, as_index=False).mean()[look_at_row].loc[1]\n",
    "    # loc[1] is meant to get the value only for boolean \"True\" dataset"
   ]
  },
  {
   "cell_type": "code",
   "execution_count": 45,
   "metadata": {},
   "outputs": [],
   "source": [
    "# new_moviedb_df_nonzero = new_moviedb_df[new_moviedb_df.revenue != 0]\n",
    "nonzero_revenue_moviedb_df = remove_zero_row(new_moviedb_df, 'revenue')"
   ]
  },
  {
   "cell_type": "code",
   "execution_count": 9,
   "metadata": {},
   "outputs": [
    {
     "data": {
      "text/html": [
       "<div>\n",
       "<style scoped>\n",
       "    .dataframe tbody tr th:only-of-type {\n",
       "        vertical-align: middle;\n",
       "    }\n",
       "\n",
       "    .dataframe tbody tr th {\n",
       "        vertical-align: top;\n",
       "    }\n",
       "\n",
       "    .dataframe thead th {\n",
       "        text-align: right;\n",
       "    }\n",
       "</style>\n",
       "<table border=\"1\" class=\"dataframe\">\n",
       "  <thead>\n",
       "    <tr style=\"text-align: right;\">\n",
       "      <th></th>\n",
       "      <th>count</th>\n",
       "      <th>mean</th>\n",
       "      <th>std</th>\n",
       "      <th>min</th>\n",
       "      <th>25%</th>\n",
       "      <th>50%</th>\n",
       "      <th>75%</th>\n",
       "      <th>max</th>\n",
       "    </tr>\n",
       "  </thead>\n",
       "  <tbody>\n",
       "    <tr>\n",
       "      <th>0</th>\n",
       "      <td>3589.0</td>\n",
       "      <td>7.221415e+07</td>\n",
       "      <td>1.300131e+08</td>\n",
       "      <td>2.0</td>\n",
       "      <td>5867686.0</td>\n",
       "      <td>27379978.0</td>\n",
       "      <td>82150642.0</td>\n",
       "      <td>1.845034e+09</td>\n",
       "    </tr>\n",
       "    <tr>\n",
       "      <th>1</th>\n",
       "      <td>1261.0</td>\n",
       "      <td>1.376238e+08</td>\n",
       "      <td>2.231144e+08</td>\n",
       "      <td>3.0</td>\n",
       "      <td>14567883.0</td>\n",
       "      <td>55583804.0</td>\n",
       "      <td>161626121.0</td>\n",
       "      <td>2.781506e+09</td>\n",
       "    </tr>\n",
       "  </tbody>\n",
       "</table>\n",
       "</div>"
      ],
      "text/plain": [
       "    count          mean           std  min         25%         50%  \\\n",
       "0  3589.0  7.221415e+07  1.300131e+08  2.0   5867686.0  27379978.0   \n",
       "1  1261.0  1.376238e+08  2.231144e+08  3.0  14567883.0  55583804.0   \n",
       "\n",
       "           75%           max  \n",
       "0   82150642.0  1.845034e+09  \n",
       "1  161626121.0  2.781506e+09  "
      ]
     },
     "execution_count": 9,
     "metadata": {},
     "output_type": "execute_result"
    }
   ],
   "source": [
    "nonzero_revenue_moviedb_df.groupby('Action', as_index=False).describe()['revenue']"
   ]
  },
  {
   "cell_type": "code",
   "execution_count": 10,
   "metadata": {},
   "outputs": [
    {
     "data": {
      "text/plain": [
       "137623797.06106263"
      ]
     },
     "execution_count": 10,
     "metadata": {},
     "output_type": "execute_result"
    }
   ],
   "source": [
    "# nonzero_revenue_moviedb_df.groupby('Action', as_index=False).mean()['revenue'].loc[1]\n",
    "get_genre_mean(nonzero_revenue_moviedb_df, 'Action', 'revenue')"
   ]
  },
  {
   "cell_type": "code",
   "execution_count": 11,
   "metadata": {},
   "outputs": [],
   "source": [
    "testdb = nonzero_revenue_moviedb_df.groupby(['Action', 'month'], as_index=False).mean()['revenue']"
   ]
  },
  {
   "cell_type": "code",
   "execution_count": 12,
   "metadata": {},
   "outputs": [
    {
     "data": {
      "text/plain": [
       "0     3.029020e+07\n",
       "1     5.997648e+07\n",
       "2     8.100660e+07\n",
       "3     4.813166e+07\n",
       "4     8.957962e+07\n",
       "5     1.216873e+08\n",
       "6     8.456919e+07\n",
       "7     4.833451e+07\n",
       "8     3.831978e+07\n",
       "9     5.179166e+07\n",
       "10    1.233807e+08\n",
       "11    1.039853e+08\n",
       "12    7.927531e+07\n",
       "13    6.552098e+07\n",
       "14    9.325377e+07\n",
       "15    1.422455e+08\n",
       "16    2.388073e+08\n",
       "17    2.095141e+08\n",
       "18    1.958421e+08\n",
       "19    8.549925e+07\n",
       "20    5.989399e+07\n",
       "21    1.097382e+08\n",
       "22    1.375468e+08\n",
       "23    1.725121e+08\n",
       "Name: revenue, dtype: float64"
      ]
     },
     "execution_count": 12,
     "metadata": {},
     "output_type": "execute_result"
    }
   ],
   "source": [
    "testdb"
   ]
  },
  {
   "cell_type": "code",
   "execution_count": 13,
   "metadata": {},
   "outputs": [],
   "source": [
    "dataset1 = testdb[0:12]\n",
    "dataset2 = testdb[12:]\n"
   ]
  },
  {
   "cell_type": "code",
   "execution_count": 14,
   "metadata": {},
   "outputs": [
    {
     "name": "stderr",
     "output_type": "stream",
     "text": [
      "C:\\anaconda2\\envs\\udacity27\\lib\\site-packages\\seaborn\\timeseries.py:183: UserWarning: The tsplot function is deprecated and will be removed or replaced (in a substantially altered version) in a future release.\n",
      "  warnings.warn(msg, UserWarning)\n"
     ]
    },
    {
     "data": {
      "text/plain": [
       "<matplotlib.axes._subplots.AxesSubplot at 0xd324358>"
      ]
     },
     "execution_count": 14,
     "metadata": {},
     "output_type": "execute_result"
    }
   ],
   "source": [
    "import matplotlib.pyplot as plt\n",
    "import seaborn as sns\n",
    "\n",
    "fig, ax = plt.subplots()\n",
    "sns.tsplot(data=dataset1, ax=ax, color='b')\n",
    "sns.tsplot(data=dataset2, ax=ax, color='r')\n"
   ]
  },
  {
   "cell_type": "code",
   "execution_count": 15,
   "metadata": {},
   "outputs": [],
   "source": [
    "testdb3 = nonzero_revenue_moviedb_df.groupby(['month'], as_index=False).mean()"
   ]
  },
  {
   "cell_type": "code",
   "execution_count": 16,
   "metadata": {},
   "outputs": [
    {
     "data": {
      "text/html": [
       "<div>\n",
       "<style scoped>\n",
       "    .dataframe tbody tr th:only-of-type {\n",
       "        vertical-align: middle;\n",
       "    }\n",
       "\n",
       "    .dataframe tbody tr th {\n",
       "        vertical-align: top;\n",
       "    }\n",
       "\n",
       "    .dataframe thead th {\n",
       "        text-align: right;\n",
       "    }\n",
       "</style>\n",
       "<table border=\"1\" class=\"dataframe\">\n",
       "  <thead>\n",
       "    <tr style=\"text-align: right;\">\n",
       "      <th></th>\n",
       "      <th>month</th>\n",
       "      <th>id</th>\n",
       "      <th>popularity</th>\n",
       "      <th>budget</th>\n",
       "      <th>revenue</th>\n",
       "      <th>runtime</th>\n",
       "      <th>vote_count</th>\n",
       "      <th>vote_average</th>\n",
       "      <th>release_year</th>\n",
       "      <th>budget_adj</th>\n",
       "      <th>...</th>\n",
       "      <th>History</th>\n",
       "      <th>Horror</th>\n",
       "      <th>Music</th>\n",
       "      <th>Mystery</th>\n",
       "      <th>Romance</th>\n",
       "      <th>Science Fiction</th>\n",
       "      <th>TV Movie</th>\n",
       "      <th>Thriller</th>\n",
       "      <th>War</th>\n",
       "      <th>Western</th>\n",
       "    </tr>\n",
       "  </thead>\n",
       "  <tbody>\n",
       "    <tr>\n",
       "      <th>0</th>\n",
       "      <td>1</td>\n",
       "      <td>44628.139073</td>\n",
       "      <td>0.826323</td>\n",
       "      <td>1.706683e+07</td>\n",
       "      <td>4.294198e+07</td>\n",
       "      <td>101.579470</td>\n",
       "      <td>289.986755</td>\n",
       "      <td>5.925497</td>\n",
       "      <td>2003.208609</td>\n",
       "      <td>1.918420e+07</td>\n",
       "      <td>...</td>\n",
       "      <td>0.016556</td>\n",
       "      <td>0.182119</td>\n",
       "      <td>0.019868</td>\n",
       "      <td>0.096026</td>\n",
       "      <td>0.178808</td>\n",
       "      <td>0.105960</td>\n",
       "      <td>0.000000</td>\n",
       "      <td>0.311258</td>\n",
       "      <td>0.029801</td>\n",
       "      <td>0.006623</td>\n",
       "    </tr>\n",
       "    <tr>\n",
       "      <th>1</th>\n",
       "      <td>2</td>\n",
       "      <td>37813.959752</td>\n",
       "      <td>0.876507</td>\n",
       "      <td>2.449400e+07</td>\n",
       "      <td>6.128107e+07</td>\n",
       "      <td>103.671827</td>\n",
       "      <td>326.873065</td>\n",
       "      <td>6.061300</td>\n",
       "      <td>2002.476780</td>\n",
       "      <td>2.827730e+07</td>\n",
       "      <td>...</td>\n",
       "      <td>0.024768</td>\n",
       "      <td>0.099071</td>\n",
       "      <td>0.027864</td>\n",
       "      <td>0.089783</td>\n",
       "      <td>0.229102</td>\n",
       "      <td>0.080495</td>\n",
       "      <td>0.000000</td>\n",
       "      <td>0.331269</td>\n",
       "      <td>0.015480</td>\n",
       "      <td>0.009288</td>\n",
       "    </tr>\n",
       "    <tr>\n",
       "      <th>2</th>\n",
       "      <td>3</td>\n",
       "      <td>41383.682796</td>\n",
       "      <td>1.052386</td>\n",
       "      <td>2.857331e+07</td>\n",
       "      <td>8.439762e+07</td>\n",
       "      <td>105.314516</td>\n",
       "      <td>441.446237</td>\n",
       "      <td>6.073387</td>\n",
       "      <td>2001.086022</td>\n",
       "      <td>3.215140e+07</td>\n",
       "      <td>...</td>\n",
       "      <td>0.013441</td>\n",
       "      <td>0.096774</td>\n",
       "      <td>0.040323</td>\n",
       "      <td>0.096774</td>\n",
       "      <td>0.163978</td>\n",
       "      <td>0.161290</td>\n",
       "      <td>0.000000</td>\n",
       "      <td>0.290323</td>\n",
       "      <td>0.021505</td>\n",
       "      <td>0.010753</td>\n",
       "    </tr>\n",
       "    <tr>\n",
       "      <th>3</th>\n",
       "      <td>4</td>\n",
       "      <td>43633.628986</td>\n",
       "      <td>0.888685</td>\n",
       "      <td>2.699062e+07</td>\n",
       "      <td>7.650220e+07</td>\n",
       "      <td>103.892754</td>\n",
       "      <td>390.797101</td>\n",
       "      <td>6.043188</td>\n",
       "      <td>2001.379710</td>\n",
       "      <td>3.105894e+07</td>\n",
       "      <td>...</td>\n",
       "      <td>0.011594</td>\n",
       "      <td>0.130435</td>\n",
       "      <td>0.020290</td>\n",
       "      <td>0.092754</td>\n",
       "      <td>0.179710</td>\n",
       "      <td>0.118841</td>\n",
       "      <td>0.000000</td>\n",
       "      <td>0.301449</td>\n",
       "      <td>0.020290</td>\n",
       "      <td>0.017391</td>\n",
       "    </tr>\n",
       "    <tr>\n",
       "      <th>4</th>\n",
       "      <td>5</td>\n",
       "      <td>43239.735135</td>\n",
       "      <td>1.246543</td>\n",
       "      <td>4.009746e+07</td>\n",
       "      <td>1.363645e+08</td>\n",
       "      <td>110.232432</td>\n",
       "      <td>606.637838</td>\n",
       "      <td>6.202162</td>\n",
       "      <td>2001.056757</td>\n",
       "      <td>4.644069e+07</td>\n",
       "      <td>...</td>\n",
       "      <td>0.040541</td>\n",
       "      <td>0.100000</td>\n",
       "      <td>0.027027</td>\n",
       "      <td>0.064865</td>\n",
       "      <td>0.140541</td>\n",
       "      <td>0.137838</td>\n",
       "      <td>0.002703</td>\n",
       "      <td>0.283784</td>\n",
       "      <td>0.029730</td>\n",
       "      <td>0.018919</td>\n",
       "    </tr>\n",
       "    <tr>\n",
       "      <th>5</th>\n",
       "      <td>6</td>\n",
       "      <td>35272.951220</td>\n",
       "      <td>1.302764</td>\n",
       "      <td>4.240750e+07</td>\n",
       "      <td>1.503917e+08</td>\n",
       "      <td>109.004878</td>\n",
       "      <td>612.321951</td>\n",
       "      <td>6.171951</td>\n",
       "      <td>1998.009756</td>\n",
       "      <td>5.287567e+07</td>\n",
       "      <td>...</td>\n",
       "      <td>0.019512</td>\n",
       "      <td>0.085366</td>\n",
       "      <td>0.034146</td>\n",
       "      <td>0.060976</td>\n",
       "      <td>0.165854</td>\n",
       "      <td>0.180488</td>\n",
       "      <td>0.000000</td>\n",
       "      <td>0.251220</td>\n",
       "      <td>0.029268</td>\n",
       "      <td>0.019512</td>\n",
       "    </tr>\n",
       "    <tr>\n",
       "      <th>6</th>\n",
       "      <td>7</td>\n",
       "      <td>42770.406250</td>\n",
       "      <td>1.200495</td>\n",
       "      <td>3.678257e+07</td>\n",
       "      <td>1.181829e+08</td>\n",
       "      <td>106.091146</td>\n",
       "      <td>565.192708</td>\n",
       "      <td>6.125000</td>\n",
       "      <td>1999.492188</td>\n",
       "      <td>4.368343e+07</td>\n",
       "      <td>...</td>\n",
       "      <td>0.023438</td>\n",
       "      <td>0.098958</td>\n",
       "      <td>0.041667</td>\n",
       "      <td>0.091146</td>\n",
       "      <td>0.166667</td>\n",
       "      <td>0.174479</td>\n",
       "      <td>0.000000</td>\n",
       "      <td>0.296875</td>\n",
       "      <td>0.015625</td>\n",
       "      <td>0.015625</td>\n",
       "    </tr>\n",
       "    <tr>\n",
       "      <th>7</th>\n",
       "      <td>8</td>\n",
       "      <td>48636.642691</td>\n",
       "      <td>0.884480</td>\n",
       "      <td>2.345434e+07</td>\n",
       "      <td>5.911315e+07</td>\n",
       "      <td>103.879350</td>\n",
       "      <td>303.645012</td>\n",
       "      <td>5.978422</td>\n",
       "      <td>2001.320186</td>\n",
       "      <td>2.756427e+07</td>\n",
       "      <td>...</td>\n",
       "      <td>0.025522</td>\n",
       "      <td>0.176334</td>\n",
       "      <td>0.051044</td>\n",
       "      <td>0.090487</td>\n",
       "      <td>0.176334</td>\n",
       "      <td>0.129930</td>\n",
       "      <td>0.000000</td>\n",
       "      <td>0.336427</td>\n",
       "      <td>0.016241</td>\n",
       "      <td>0.009281</td>\n",
       "    </tr>\n",
       "    <tr>\n",
       "      <th>8</th>\n",
       "      <td>9</td>\n",
       "      <td>57579.062397</td>\n",
       "      <td>0.826104</td>\n",
       "      <td>1.788849e+07</td>\n",
       "      <td>4.225202e+07</td>\n",
       "      <td>108.407225</td>\n",
       "      <td>300.848933</td>\n",
       "      <td>6.228079</td>\n",
       "      <td>2004.376026</td>\n",
       "      <td>2.072234e+07</td>\n",
       "      <td>...</td>\n",
       "      <td>0.031199</td>\n",
       "      <td>0.108374</td>\n",
       "      <td>0.045977</td>\n",
       "      <td>0.083744</td>\n",
       "      <td>0.201970</td>\n",
       "      <td>0.088670</td>\n",
       "      <td>0.000000</td>\n",
       "      <td>0.305419</td>\n",
       "      <td>0.026273</td>\n",
       "      <td>0.009852</td>\n",
       "    </tr>\n",
       "    <tr>\n",
       "      <th>9</th>\n",
       "      <td>10</td>\n",
       "      <td>52310.872807</td>\n",
       "      <td>1.033512</td>\n",
       "      <td>2.477026e+07</td>\n",
       "      <td>6.437217e+07</td>\n",
       "      <td>108.192982</td>\n",
       "      <td>407.896930</td>\n",
       "      <td>6.224342</td>\n",
       "      <td>2001.024123</td>\n",
       "      <td>2.958914e+07</td>\n",
       "      <td>...</td>\n",
       "      <td>0.041667</td>\n",
       "      <td>0.168860</td>\n",
       "      <td>0.037281</td>\n",
       "      <td>0.118421</td>\n",
       "      <td>0.173246</td>\n",
       "      <td>0.081140</td>\n",
       "      <td>0.000000</td>\n",
       "      <td>0.313596</td>\n",
       "      <td>0.028509</td>\n",
       "      <td>0.006579</td>\n",
       "    </tr>\n",
       "    <tr>\n",
       "      <th>10</th>\n",
       "      <td>11</td>\n",
       "      <td>44218.375691</td>\n",
       "      <td>1.281294</td>\n",
       "      <td>3.912288e+07</td>\n",
       "      <td>1.267852e+08</td>\n",
       "      <td>111.138122</td>\n",
       "      <td>527.767956</td>\n",
       "      <td>6.229006</td>\n",
       "      <td>2000.157459</td>\n",
       "      <td>4.685157e+07</td>\n",
       "      <td>...</td>\n",
       "      <td>0.041436</td>\n",
       "      <td>0.104972</td>\n",
       "      <td>0.038674</td>\n",
       "      <td>0.069061</td>\n",
       "      <td>0.179558</td>\n",
       "      <td>0.124309</td>\n",
       "      <td>0.000000</td>\n",
       "      <td>0.292818</td>\n",
       "      <td>0.041436</td>\n",
       "      <td>0.013812</td>\n",
       "    </tr>\n",
       "    <tr>\n",
       "      <th>11</th>\n",
       "      <td>12</td>\n",
       "      <td>35546.325103</td>\n",
       "      <td>1.156937</td>\n",
       "      <td>3.620987e+07</td>\n",
       "      <td>1.197775e+08</td>\n",
       "      <td>119.072016</td>\n",
       "      <td>493.343621</td>\n",
       "      <td>6.357819</td>\n",
       "      <td>1997.290123</td>\n",
       "      <td>4.596407e+07</td>\n",
       "      <td>...</td>\n",
       "      <td>0.072016</td>\n",
       "      <td>0.053498</td>\n",
       "      <td>0.057613</td>\n",
       "      <td>0.063786</td>\n",
       "      <td>0.203704</td>\n",
       "      <td>0.090535</td>\n",
       "      <td>0.000000</td>\n",
       "      <td>0.224280</td>\n",
       "      <td>0.057613</td>\n",
       "      <td>0.022634</td>\n",
       "    </tr>\n",
       "  </tbody>\n",
       "</table>\n",
       "<p>12 rows × 31 columns</p>\n",
       "</div>"
      ],
      "text/plain": [
       "    month            id  popularity        budget       revenue     runtime  \\\n",
       "0       1  44628.139073    0.826323  1.706683e+07  4.294198e+07  101.579470   \n",
       "1       2  37813.959752    0.876507  2.449400e+07  6.128107e+07  103.671827   \n",
       "2       3  41383.682796    1.052386  2.857331e+07  8.439762e+07  105.314516   \n",
       "3       4  43633.628986    0.888685  2.699062e+07  7.650220e+07  103.892754   \n",
       "4       5  43239.735135    1.246543  4.009746e+07  1.363645e+08  110.232432   \n",
       "5       6  35272.951220    1.302764  4.240750e+07  1.503917e+08  109.004878   \n",
       "6       7  42770.406250    1.200495  3.678257e+07  1.181829e+08  106.091146   \n",
       "7       8  48636.642691    0.884480  2.345434e+07  5.911315e+07  103.879350   \n",
       "8       9  57579.062397    0.826104  1.788849e+07  4.225202e+07  108.407225   \n",
       "9      10  52310.872807    1.033512  2.477026e+07  6.437217e+07  108.192982   \n",
       "10     11  44218.375691    1.281294  3.912288e+07  1.267852e+08  111.138122   \n",
       "11     12  35546.325103    1.156937  3.620987e+07  1.197775e+08  119.072016   \n",
       "\n",
       "    vote_count  vote_average  release_year    budget_adj    ...      History  \\\n",
       "0   289.986755      5.925497   2003.208609  1.918420e+07    ...     0.016556   \n",
       "1   326.873065      6.061300   2002.476780  2.827730e+07    ...     0.024768   \n",
       "2   441.446237      6.073387   2001.086022  3.215140e+07    ...     0.013441   \n",
       "3   390.797101      6.043188   2001.379710  3.105894e+07    ...     0.011594   \n",
       "4   606.637838      6.202162   2001.056757  4.644069e+07    ...     0.040541   \n",
       "5   612.321951      6.171951   1998.009756  5.287567e+07    ...     0.019512   \n",
       "6   565.192708      6.125000   1999.492188  4.368343e+07    ...     0.023438   \n",
       "7   303.645012      5.978422   2001.320186  2.756427e+07    ...     0.025522   \n",
       "8   300.848933      6.228079   2004.376026  2.072234e+07    ...     0.031199   \n",
       "9   407.896930      6.224342   2001.024123  2.958914e+07    ...     0.041667   \n",
       "10  527.767956      6.229006   2000.157459  4.685157e+07    ...     0.041436   \n",
       "11  493.343621      6.357819   1997.290123  4.596407e+07    ...     0.072016   \n",
       "\n",
       "      Horror     Music   Mystery   Romance  Science Fiction  TV Movie  \\\n",
       "0   0.182119  0.019868  0.096026  0.178808         0.105960  0.000000   \n",
       "1   0.099071  0.027864  0.089783  0.229102         0.080495  0.000000   \n",
       "2   0.096774  0.040323  0.096774  0.163978         0.161290  0.000000   \n",
       "3   0.130435  0.020290  0.092754  0.179710         0.118841  0.000000   \n",
       "4   0.100000  0.027027  0.064865  0.140541         0.137838  0.002703   \n",
       "5   0.085366  0.034146  0.060976  0.165854         0.180488  0.000000   \n",
       "6   0.098958  0.041667  0.091146  0.166667         0.174479  0.000000   \n",
       "7   0.176334  0.051044  0.090487  0.176334         0.129930  0.000000   \n",
       "8   0.108374  0.045977  0.083744  0.201970         0.088670  0.000000   \n",
       "9   0.168860  0.037281  0.118421  0.173246         0.081140  0.000000   \n",
       "10  0.104972  0.038674  0.069061  0.179558         0.124309  0.000000   \n",
       "11  0.053498  0.057613  0.063786  0.203704         0.090535  0.000000   \n",
       "\n",
       "    Thriller       War   Western  \n",
       "0   0.311258  0.029801  0.006623  \n",
       "1   0.331269  0.015480  0.009288  \n",
       "2   0.290323  0.021505  0.010753  \n",
       "3   0.301449  0.020290  0.017391  \n",
       "4   0.283784  0.029730  0.018919  \n",
       "5   0.251220  0.029268  0.019512  \n",
       "6   0.296875  0.015625  0.015625  \n",
       "7   0.336427  0.016241  0.009281  \n",
       "8   0.305419  0.026273  0.009852  \n",
       "9   0.313596  0.028509  0.006579  \n",
       "10  0.292818  0.041436  0.013812  \n",
       "11  0.224280  0.057613  0.022634  \n",
       "\n",
       "[12 rows x 31 columns]"
      ]
     },
     "execution_count": 16,
     "metadata": {},
     "output_type": "execute_result"
    }
   ],
   "source": [
    "testdb3"
   ]
  },
  {
   "cell_type": "code",
   "execution_count": 17,
   "metadata": {},
   "outputs": [
    {
     "data": {
      "text/plain": [
       "<seaborn.axisgrid.JointGrid at 0x9e07c50>"
      ]
     },
     "execution_count": 17,
     "metadata": {},
     "output_type": "execute_result"
    },
    {
     "data": {
      "image/png": "[encoded data removed]",
      "text/plain": [
       "<matplotlib.figure.Figure at 0xd6139b0>"
      ]
     },
     "metadata": {},
     "output_type": "display_data"
    }
   ],
   "source": [
    "sns.jointplot(x=\"vote_average\", y=\"revenue\", data=nonzero_revenue_moviedb_df)"
   ]
  },
  {
   "cell_type": "code",
   "execution_count": 18,
   "metadata": {},
   "outputs": [],
   "source": [
    "# sns.set()\n",
    "# g = sns.lmplot(x=\"popularity\", y=\"vote_count\", hue=\"revenue\",              \n",
    "#              truncate=True, size=5, data=nonzero_revenue_moviedb_df)\n",
    "\n",
    "#g.set_axis_labels(\"popularity\", \"vote_count\")"
   ]
  },
  {
   "cell_type": "code",
   "execution_count": 46,
   "metadata": {},
   "outputs": [
    {
     "name": "stderr",
     "output_type": "stream",
     "text": [
      "C:\\anaconda2\\envs\\udacity27\\lib\\site-packages\\ipykernel\\__main__.py:3: SettingWithCopyWarning: \n",
      "A value is trying to be set on a copy of a slice from a DataFrame.\n",
      "Try using .loc[row_indexer,col_indexer] = value instead\n",
      "\n",
      "See the caveats in the documentation: http://pandas.pydata.org/pandas-docs/stable/indexing.html#indexing-view-versus-copy\n",
      "  app.launch_new_instance()\n"
     ]
    }
   ],
   "source": [
    "import calendar\n",
    "nonzero_revenue_moviedb_df['month'] = nonzero_revenue_moviedb_df['month'].apply(lambda x: calendar.month_abbr[x])"
   ]
  },
  {
   "cell_type": "code",
   "execution_count": 31,
   "metadata": {},
   "outputs": [
    {
     "data": {
      "text/plain": [
       "0        Jun\n",
       "1        May\n",
       "2        Mar\n",
       "3        Dec\n",
       "4        Apr\n",
       "5        Dec\n",
       "6        Jun\n",
       "7        Sep\n",
       "8        Jun\n",
       "9        Jun\n",
       "10       Oct\n",
       "11       Feb\n",
       "12       Jan\n",
       "13       Jul\n",
       "14       Apr\n",
       "15       Dec\n",
       "16       Jan\n",
       "17       Jul\n",
       "18       Mar\n",
       "19       Nov\n",
       "20       May\n",
       "21       Jun\n",
       "22       May\n",
       "23       Feb\n",
       "24       Dec\n",
       "25       Jul\n",
       "26       Jun\n",
       "27       Jan\n",
       "28       Nov\n",
       "29       Sep\n",
       "        ... \n",
       "10740    Jun\n",
       "10755    Jul\n",
       "10756    Jun\n",
       "10757    Sep\n",
       "10758    Dec\n",
       "10759    Oct\n",
       "10760    Jul\n",
       "10761    Jul\n",
       "10762    Dec\n",
       "10764    Jan\n",
       "10766    Sep\n",
       "10770    Oct\n",
       "10771    Nov\n",
       "10775    Oct\n",
       "10777    Apr\n",
       "10778    Nov\n",
       "10779    Jun\n",
       "10780    Dec\n",
       "10787    Mar\n",
       "10788    Oct\n",
       "10791    Jun\n",
       "10793    Oct\n",
       "10812    Mar\n",
       "10817    May\n",
       "10819    Jul\n",
       "10822    Jun\n",
       "10828    Jul\n",
       "10829    Dec\n",
       "10835    Dec\n",
       "10848    Aug\n",
       "Name: month, Length: 4850, dtype: object"
      ]
     },
     "execution_count": 31,
     "metadata": {},
     "output_type": "execute_result"
    }
   ],
   "source": [
    "nonzero_revenue_moviedb_df['month']"
   ]
  },
  {
   "cell_type": "code",
   "execution_count": 39,
   "metadata": {},
   "outputs": [
    {
     "data": {
      "text/plain": [
       "<matplotlib.axes._subplots.AxesSubplot at 0x2039a358>"
      ]
     },
     "execution_count": 39,
     "metadata": {},
     "output_type": "execute_result"
    },
    {
     "data": {
      "image/png": "[encoded data removed]",
      "text/plain": [
       "<matplotlib.figure.Figure at 0x2038eeb8>"
      ]
     },
     "metadata": {},
     "output_type": "display_data"
    }
   ],
   "source": [
    "sns.swarmplot(x=\"month\", \n",
    "              y=\"revenue\", \n",
    "              hue=\"Action\", \n",
    "              data=nonzero_revenue_moviedb_df, \n",
    "              dodge=True,\n",
    "              order=[\"Jan\", \"Feb\", \"Mar\", \"Apr\",\n",
    "                     \"May\", \"Jun\", \"Jul\", \"Aug\",\n",
    "                     \"Sep\", \"Oct\", \"Nov\", \"Dec\"\n",
    "                    ]\n",
    "             )"
   ]
  },
  {
   "cell_type": "code",
   "execution_count": null,
   "metadata": {},
   "outputs": [],
   "source": [
    "# sns.pairplot(nonzero_revenue_moviedb_df, hue=\"month\")"
   ]
  },
  {
   "cell_type": "code",
   "execution_count": null,
   "metadata": {},
   "outputs": [],
   "source": [
    "nonzero_revenue_action_df = nonzero_revenue_moviedb_df[nonzero_revenue_moviedb_df['Action']==1]"
   ]
  },
  {
   "cell_type": "code",
   "execution_count": null,
   "metadata": {},
   "outputs": [],
   "source": [
    "nonzero_revenue_action_dfnonzero_revenue_action_df"
   ]
  },
  {
   "cell_type": "code",
   "execution_count": null,
   "metadata": {},
   "outputs": [],
   "source": [
    "plt.figure(figsize=(12,8))\n",
    "sns.set_style(\"whitegrid\")\n",
    "sns.set_context(\"notebook\", font_scale=2)\n",
    "sns.barplot(x=\"month\", y=\"revenue\", hue=\"Horror\", data=monthly.sort_values(['month', 'Horror']))\n",
    "plt.xlabel(\"Month\")\n",
    "plt.ylabel(\"Revenue\")\n",
    "plt.title(\"Revenue of Horror Movies per Month\")"
   ]
  }
 ],
 "metadata": {
  "kernelspec": {
   "display_name": "Python [default]",
   "language": "python",
   "name": "python2"
  },
  "language_info": {
   "codemirror_mode": {
    "name": "ipython",
    "version": 2
   },
   "file_extension": ".py",
   "mimetype": "text/x-python",
   "name": "python",
   "nbconvert_exporter": "python",
   "pygments_lexer": "ipython2",
   "version": "2.7.14"
  }
 },
 "nbformat": 4,
 "nbformat_minor": 2
}
